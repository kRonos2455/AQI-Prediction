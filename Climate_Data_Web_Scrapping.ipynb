{
 "cells": [
  {
   "cell_type": "markdown",
   "id": "5affee6d-d258-4cd6-adf2-fb85e4814b66",
   "metadata": {},
   "source": [
    "## **Web Scrapper Code**"
   ]
  },
  {
   "cell_type": "code",
   "execution_count": 1,
   "id": "6be602aa-cc0f-45d7-9156-63c0e701b526",
   "metadata": {},
   "outputs": [],
   "source": [
    "import requests \n",
    "import time\n",
    "import os \n",
    "import sys"
   ]
  },
  {
   "cell_type": "code",
   "execution_count": 2,
   "id": "9110d973-2d62-4930-905f-4e2352374729",
   "metadata": {},
   "outputs": [],
   "source": [
    "def retrieve_html():\n",
    "    for year in range(2018, 2024):\n",
    "        \n",
    "        if not os.path.exists(\"Data_blr_tutiempo/Html_data/{}\".format(year)):\n",
    "            os.makedirs(\"Data_blr_tutiempo/Html_data/{}\".format(year))\n",
    "            \n",
    "        for month in range(1, 13):\n",
    "            url = f\"https://en.tutiempo.net/climate/{str(month).rjust(2, '0')}-{year}/ws-432950.html\"\n",
    "            texts = requests.get(url).content\n",
    "\n",
    "            with open(\"Data_blr_tutiempo/Html_data/{}/{}.html\".format(year, month), \"wb+\") as output:\n",
    "                output.write(texts)\n",
    "                \n",
    "        sys.stdout.flush()\n",
    "        print(f'Year {year} data collected....')"
   ]
  },
  {
   "cell_type": "code",
   "execution_count": 3,
   "id": "39f5a504-ce25-40ef-bdad-6ee7279f6e1f",
   "metadata": {},
   "outputs": [
    {
     "name": "stdout",
     "output_type": "stream",
     "text": [
      "Year 2018 data collected....\n",
      "Year 2019 data collected....\n",
      "Year 2020 data collected....\n",
      "Year 2021 data collected....\n",
      "Year 2022 data collected....\n",
      "Year 2023 data collected....\n",
      "Time taken: 52.05705642700195 seconds\n"
     ]
    }
   ],
   "source": [
    "start_time = time.time()\n",
    "retrieve_html()\n",
    "end_time = time.time()\n",
    "print(f'Time taken: {end_time-start_time} seconds')"
   ]
  },
  {
   "cell_type": "code",
   "execution_count": null,
   "id": "4f8900ff-9f66-4ff7-8380-f021a21db7fc",
   "metadata": {},
   "outputs": [],
   "source": []
  }
 ],
 "metadata": {
  "kernelspec": {
   "display_name": "Python 3 (ipykernel)",
   "language": "python",
   "name": "python3"
  },
  "language_info": {
   "codemirror_mode": {
    "name": "ipython",
    "version": 3
   },
   "file_extension": ".py",
   "mimetype": "text/x-python",
   "name": "python",
   "nbconvert_exporter": "python",
   "pygments_lexer": "ipython3",
   "version": "3.11.4"
  }
 },
 "nbformat": 4,
 "nbformat_minor": 5
}
